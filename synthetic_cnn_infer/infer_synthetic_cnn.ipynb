{
 "cells": [
  {
   "cell_type": "code",
   "execution_count": 1,
   "metadata": {},
   "outputs": [],
   "source": [
    "import torch\n",
    "import torch.nn as nn\n",
    "import numpy as np\n",
    "from efficientNetV2 import MRIClassifier\n",
    "import pickle\n",
    "import glob\n",
    "import nibabel as nib\n",
    "from torchvision import transforms\n",
    "import torch.nn.functional as F\n",
    "from sklearn.metrics import (\n",
    "    roc_auc_score, \n",
    "    precision_recall_curve, \n",
    "    auc, \n",
    "    precision_score, \n",
    "    recall_score, \n",
    "    f1_score, \n",
    "    confusion_matrix,\n",
    "    roc_curve,\n",
    "    average_precision_score,\n",
    "    accuracy_score\n",
    ")"
   ]
  },
  {
   "cell_type": "code",
   "execution_count": 2,
   "metadata": {},
   "outputs": [],
   "source": [
    "synth_nii_files = glob.glob(\"/space/mcdonald-syn01/1/projects/jsawant/DSC250/nii_test/*.nii\")\n",
    "device = \"cuda:0\""
   ]
  },
  {
   "cell_type": "code",
   "execution_count": 3,
   "metadata": {},
   "outputs": [
    {
     "name": "stderr",
     "output_type": "stream",
     "text": [
      "/home/jsawant/.conda/envs/jay/lib/python3.12/site-packages/torchvision/models/_utils.py:208: UserWarning: The parameter 'pretrained' is deprecated since 0.13 and may be removed in the future, please use 'weights' instead.\n",
      "  warnings.warn(\n",
      "/home/jsawant/.conda/envs/jay/lib/python3.12/site-packages/torchvision/models/_utils.py:223: UserWarning: Arguments other than a weight enum or `None` for 'weights' are deprecated since 0.13 and may be removed in the future. The current behavior is equivalent to passing `weights=EfficientNet_V2_L_Weights.IMAGENET1K_V1`. You can also use `weights=EfficientNet_V2_L_Weights.DEFAULT` to get the most up-to-date weights.\n",
      "  warnings.warn(msg)\n",
      "/tmp/ipykernel_919498/931202191.py:2: FutureWarning: You are using `torch.load` with `weights_only=False` (the current default value), which uses the default pickle module implicitly. It is possible to construct malicious pickle data which will execute arbitrary code during unpickling (See https://github.com/pytorch/pytorch/blob/main/SECURITY.md#untrusted-models for more details). In a future release, the default value for `weights_only` will be flipped to `True`. This limits the functions that could be executed during unpickling. Arbitrary objects will no longer be allowed to be loaded via this mode unless they are explicitly allowlisted by the user via `torch.serialization.add_safe_globals`. We recommend you start setting `weights_only=True` for any use case where you don't have full control of the loaded file. Please open an issue on GitHub for any issues related to this experimental feature.\n",
      "  checkpoint = torch.load(\"/space/mcdonald-syn01/1/projects/jsawant/DSC250/classifier/runs/run_20250305_143032_efficientNetV2/fold_1/best_model.pth\",\n"
     ]
    }
   ],
   "source": [
    "model = MRIClassifier(dropout_rate=0.5).to(device)\n",
    "checkpoint = torch.load(\"/space/mcdonald-syn01/1/projects/jsawant/DSC250/classifier/runs/run_20250305_143032_efficientNetV2/fold_1/best_model.pth\", \n",
    "                        map_location=device)\n",
    "model.load_state_dict(checkpoint['model_state_dict'])\n",
    "model.eval()\n",
    "del checkpoint"
   ]
  },
  {
   "cell_type": "code",
   "execution_count": 4,
   "metadata": {},
   "outputs": [],
   "source": [
    "def preprocess(image):\n",
    "    image = image[:,9:124,:]\n",
    "    image = torch.Tensor(image)\n",
    "    image = image.permute(1,0,2)\n",
    "    return image.unsqueeze(0)"
   ]
  },
  {
   "cell_type": "code",
   "execution_count": 10,
   "metadata": {},
   "outputs": [],
   "source": [
    "ground_truths = []\n",
    "preds = {}\n",
    "scores = {}\n",
    "with torch.no_grad():\n",
    "    for file in synth_nii_files:\n",
    "        image = nib.load(file)\n",
    "        image = image.get_fdata()\n",
    "        #image = (image - np.mean(image)) / np.std(image)    # z-norm\n",
    "        # Get slices from 10 to 125 \n",
    "        image = preprocess(image).to(device)\n",
    "        # label = synth_file['label']\n",
    "        score,_ = model(image)\n",
    "        score = F.sigmoid(score)\n",
    "        pred = 1 if score.item() > 0.50 else 0\n",
    "        #ground_truths.append(label)\n",
    "        preds[file.split('/')[-1]] = pred\n",
    "        scores[file.split('/')[-1]] = score.item()\n",
    "\n",
    "#ground_truths = np.array(ground_truths)\n",
    "# preds = np.array(preds)\n",
    "# scores = np.array(scores)\n",
    "        \n",
    "                \n",
    "    "
   ]
  },
  {
   "cell_type": "code",
   "execution_count": 16,
   "metadata": {},
   "outputs": [
    {
     "data": {
      "text/plain": [
       "{'accuracy': 0.25,\n",
       " 'auc_roc': 1.0,\n",
       " 'auc_pr': 1.0,\n",
       " 'ppv': 0.25,\n",
       " 'sensitivity': 1.0,\n",
       " 'specificity': 0.0,\n",
       " 'precision': 0.25,\n",
       " 'recall': 1.0,\n",
       " 'f1_score': 0.4}"
      ]
     },
     "execution_count": 16,
     "metadata": {},
     "output_type": "execute_result"
    }
   ],
   "source": [
    "metrics = {\n",
    "    'accuracy': accuracy_score(ground_truths, preds),\n",
    "    'auc_roc': roc_auc_score(ground_truths, scores),\n",
    "    'auc_pr': average_precision_score(ground_truths, scores),\n",
    "    'ppv': precision_score(ground_truths, preds),\n",
    "    'sensitivity': recall_score(ground_truths, preds),\n",
    "    'specificity': recall_score(ground_truths, preds, pos_label=0),\n",
    "    'precision': precision_score(ground_truths, preds),\n",
    "    'recall': recall_score(ground_truths, preds),\n",
    "    'f1_score': f1_score(ground_truths, preds),\n",
    "}\n",
    "metrics"
   ]
  },
  {
   "cell_type": "code",
   "execution_count": 11,
   "metadata": {},
   "outputs": [
    {
     "data": {
      "text/plain": [
       "{'7.nii': 1,\n",
       " '37.nii': 0,\n",
       " '14.nii': 0,\n",
       " '40.nii': 0,\n",
       " '4.nii': 0,\n",
       " '43.nii': 0,\n",
       " '9.nii': 0,\n",
       " '1.nii': 0,\n",
       " '20.nii': 0,\n",
       " '5.nii': 0,\n",
       " '24.nii': 0,\n",
       " '11.nii': 0,\n",
       " '35.nii': 1,\n",
       " '29.nii': 1,\n",
       " '6.nii': 1,\n",
       " '32.nii': 1,\n",
       " '47.nii': 1,\n",
       " '12.nii': 1,\n",
       " '36.nii': 1,\n",
       " '30.nii': 1,\n",
       " '16.nii': 1,\n",
       " '25.nii': 1,\n",
       " '13.nii': 1,\n",
       " '44.nii': 1,\n",
       " '18.nii': 1,\n",
       " '2.nii': 0,\n",
       " '17.nii': 0,\n",
       " '45.nii': 0,\n",
       " '26.nii': 0,\n",
       " '48.nii': 0,\n",
       " '19.nii': 1,\n",
       " '31.nii': 1,\n",
       " '21.nii': 0,\n",
       " '15.nii': 1,\n",
       " '8.nii': 0,\n",
       " '39.nii': 0,\n",
       " '38.nii': 1,\n",
       " '28.nii': 1,\n",
       " '42.nii': 1,\n",
       " '23.nii': 1,\n",
       " '27.nii': 1,\n",
       " '46.nii': 1,\n",
       " '33.nii': 1,\n",
       " '41.nii': 1,\n",
       " '10.nii': 1,\n",
       " '34.nii': 1,\n",
       " '3.nii': 0,\n",
       " '22.nii': 1}"
      ]
     },
     "execution_count": 11,
     "metadata": {},
     "output_type": "execute_result"
    }
   ],
   "source": [
    "preds"
   ]
  },
  {
   "cell_type": "code",
   "execution_count": 12,
   "metadata": {},
   "outputs": [
    {
     "data": {
      "text/plain": [
       "{'7.nii': 0.8529288172721863,\n",
       " '37.nii': 0.21806910634040833,\n",
       " '14.nii': 0.10483557730913162,\n",
       " '40.nii': 0.3451373279094696,\n",
       " '4.nii': 0.0553562268614769,\n",
       " '43.nii': 0.1448381394147873,\n",
       " '9.nii': 0.1828383356332779,\n",
       " '1.nii': 0.26868191361427307,\n",
       " '20.nii': 0.29189783334732056,\n",
       " '5.nii': 0.1257357895374298,\n",
       " '24.nii': 0.30551886558532715,\n",
       " '11.nii': 0.3618048131465912,\n",
       " '35.nii': 0.9861770272254944,\n",
       " '29.nii': 0.9922845363616943,\n",
       " '6.nii': 0.6665353178977966,\n",
       " '32.nii': 0.997718870639801,\n",
       " '47.nii': 0.995389461517334,\n",
       " '12.nii': 0.9931092262268066,\n",
       " '36.nii': 0.987528383731842,\n",
       " '30.nii': 0.9494888782501221,\n",
       " '16.nii': 0.9711605310440063,\n",
       " '25.nii': 0.9952627420425415,\n",
       " '13.nii': 0.9712305665016174,\n",
       " '44.nii': 0.9926679730415344,\n",
       " '18.nii': 0.7629279494285583,\n",
       " '2.nii': 0.22633160650730133,\n",
       " '17.nii': 0.05715594440698624,\n",
       " '45.nii': 0.4523855149745941,\n",
       " '26.nii': 0.18338485062122345,\n",
       " '48.nii': 0.47499752044677734,\n",
       " '19.nii': 0.8880132436752319,\n",
       " '31.nii': 0.6575129628181458,\n",
       " '21.nii': 0.23369622230529785,\n",
       " '15.nii': 0.6402459144592285,\n",
       " '8.nii': 0.15638664364814758,\n",
       " '39.nii': 0.2629452049732208,\n",
       " '38.nii': 0.5462736487388611,\n",
       " '28.nii': 0.8817691802978516,\n",
       " '42.nii': 0.9969459176063538,\n",
       " '23.nii': 0.9714263081550598,\n",
       " '27.nii': 0.9975098371505737,\n",
       " '46.nii': 0.6792522072792053,\n",
       " '33.nii': 0.9911967515945435,\n",
       " '41.nii': 0.604231595993042,\n",
       " '10.nii': 0.9948843121528625,\n",
       " '34.nii': 0.9977909326553345,\n",
       " '3.nii': 0.4056454598903656,\n",
       " '22.nii': 0.9981756210327148}"
      ]
     },
     "execution_count": 12,
     "metadata": {},
     "output_type": "execute_result"
    }
   ],
   "source": [
    "scores"
   ]
  },
  {
   "cell_type": "code",
   "execution_count": 13,
   "metadata": {},
   "outputs": [],
   "source": [
    "import pandas as pd\n",
    "csv = \"/space/mcdonald-syn01/1/projects/jsawant/DSC250/qualitative_results.csv\"\n",
    "df = pd.read_csv(csv)"
   ]
  },
  {
   "cell_type": "code",
   "execution_count": 22,
   "metadata": {},
   "outputs": [],
   "source": [
    "scores_arr = []\n",
    "preds_arr = []\n",
    "gts_arr = []\n",
    "for i in range(len(df)):\n",
    "    if df['Real/synthetic'].iloc[i]==\"Synthetic\":\n",
    "        file = str(df['ID'].iloc[i]) + '.nii'\n",
    "        pred = preds[file]\n",
    "        score = scores[file]\n",
    "        gt = 0 if df['label'].iloc[i]==\"HC\" else 1\n",
    "        scores_arr.append(score)\n",
    "        preds_arr.append(pred)\n",
    "        gts_arr.append(gt)\n",
    "\n",
    "scores_arr = np.array(scores_arr)\n",
    "preds_arr = np.array(preds_arr)\n",
    "gts_arr = np.array(gts_arr)"
   ]
  },
  {
   "cell_type": "code",
   "execution_count": 23,
   "metadata": {},
   "outputs": [
    {
     "data": {
      "text/plain": [
       "0.7916666666666666"
      ]
     },
     "execution_count": 23,
     "metadata": {},
     "output_type": "execute_result"
    }
   ],
   "source": [
    "np.sum(gts_arr==preds_arr)/24"
   ]
  },
  {
   "cell_type": "code",
   "execution_count": 28,
   "metadata": {},
   "outputs": [
    {
     "data": {
      "text/plain": [
       "0.8819444444444444"
      ]
     },
     "execution_count": 28,
     "metadata": {},
     "output_type": "execute_result"
    }
   ],
   "source": [
    "auc =  roc_auc_score(gts_arr, scores_arr)\n",
    "auc"
   ]
  },
  {
   "cell_type": "code",
   "execution_count": null,
   "metadata": {},
   "outputs": [],
   "source": []
  }
 ],
 "metadata": {
  "kernelspec": {
   "display_name": "jay",
   "language": "python",
   "name": "python3"
  },
  "language_info": {
   "codemirror_mode": {
    "name": "ipython",
    "version": 3
   },
   "file_extension": ".py",
   "mimetype": "text/x-python",
   "name": "python",
   "nbconvert_exporter": "python",
   "pygments_lexer": "ipython3",
   "version": "3.12.7"
  }
 },
 "nbformat": 4,
 "nbformat_minor": 2
}
